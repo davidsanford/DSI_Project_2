{
 "cells": [
  {
   "cell_type": "markdown",
   "metadata": {},
   "source": [
    "# Project 2:  Lucid Titanic Sleuthing"
   ]
  },
  {
   "cell_type": "markdown",
   "metadata": {},
   "source": [
    "## Part 1: Developing an understanding of the data"
   ]
  },
  {
   "cell_type": "markdown",
   "metadata": {},
   "source": [
    "#### Based on the description of the data you read in the readme describe in your own words this data."
   ]
  },
  {
   "cell_type": "markdown",
   "metadata": {
    "collapsed": true
   },
   "source": [
    "The data describes passengers on the Titanic and Lusitania.  It records whether or not the passenger survived, and various simple data on each passenger."
   ]
  },
  {
   "cell_type": "markdown",
   "metadata": {},
   "source": [
    "#### Based on our conceptual understanding of the columns in this data set.  What are the reasonable range of the values for the Sex, Age, SibSp, Parch columns."
   ]
  },
  {
   "cell_type": "markdown",
   "metadata": {
    "collapsed": true
   },
   "source": [
    "### Titanic:\n",
    "\n",
    "The 'Sex' column should include Male and Female entries, and possibly an explicit Unknown string.  Given the age of the data, it is unlikely to contain more nuanced or 'other' tags.  Age should contain values between 0 for infants and 80-100 for the oldest passengers.  SibSp is likely to be between 0 and 10-12 for the largest families.  Parch could similarly be up to 10-12 for a large family.  All columns may be empty if the value is unknown.\n",
    "\n",
    "### Lusitania:\n",
    "\n",
    "The 'Sex' and 'Age' columns are the only ones among the columns specified that also exists in the Lusitania data set, and it has the same reasonable entries as for the Titanic data set."
   ]
  },
  {
   "cell_type": "markdown",
   "metadata": {},
   "source": [
    "### Open the data in sublime text is there anything that jumps out to you?"
   ]
  },
  {
   "cell_type": "markdown",
   "metadata": {
    "collapsed": true
   },
   "source": [
    "### Titanic:\n",
    "\n",
    "The frequency of missing data is different for different columns.  The passenger class, survival, and name columns exist (at first glance) for all passengers.  Other columns may be missing.  Moreover, the data set is divided by passenger class, and there are generally more missing values for passengers in lower class cabins than in upper class cabins.  Survival probability also appears to be generically lower for lower class cabins.\n",
    "\n",
    "### Lusitania:\n",
    "\n",
    "The Lusitania data set has significantly more entries than the Titanic data, and also more empty entries.  It includes data for both passengers and crew, whereas the Titanic has data only for passengers.  The data set also contains more strings variables -- for instance, the 'Fate' field is expressed as a string whereas the 'Survival' field in the Titanic data set is expressed as a boolean."
   ]
  },
  {
   "cell_type": "markdown",
   "metadata": {},
   "source": [
    "## Part 2: reading the data in"
   ]
  },
  {
   "cell_type": "markdown",
   "metadata": {},
   "source": [
    "#### Now read the data into a Pandas DataFrame"
   ]
  },
  {
   "cell_type": "code",
   "execution_count": 23,
   "metadata": {
    "collapsed": true
   },
   "outputs": [],
   "source": [
    "import pandas as pd\n",
    "import numpy as np\n",
    "import re\n",
    "%matplotlib inline\n",
    "import matplotlib.pyplot as plt\n",
    "import scipy.stats as stats\n",
    "import seaborn as sns"
   ]
  },
  {
   "cell_type": "code",
   "execution_count": 24,
   "metadata": {
    "collapsed": false
   },
   "outputs": [],
   "source": [
    "titanic = pd.read_csv(open(\"assets/titanic.csv\"))\n",
    "lusitania = pd.read_csv(open(\"assets/lusitania.csv\"))"
   ]
  },
  {
   "cell_type": "markdown",
   "metadata": {},
   "source": [
    "#### Check that the age column doesn't have any unreasonable values "
   ]
  },
  {
   "cell_type": "markdown",
   "metadata": {},
   "source": [
    "### Titanic\n",
    "\n",
    "The non-null values seem reasonable, and fit into the criteria listed above."
   ]
  },
  {
   "cell_type": "code",
   "execution_count": 25,
   "metadata": {
    "collapsed": false
   },
   "outputs": [
    {
     "name": "stdout",
     "output_type": "stream",
     "text": [
      "Min age :  0.17\n",
      "Max age :  80.0\n",
      "Mean age :  29.8811376673\n"
     ]
    },
    {
     "data": {
      "image/png": "[encoded data removed]",
      "text/plain": [
       "<matplotlib.figure.Figure at 0x112956c10>"
      ]
     },
     "metadata": {},
     "output_type": "display_data"
    }
   ],
   "source": [
    "print \"Min age : \", titanic[titanic.age.isnull() == False].age.min()\n",
    "print \"Max age : \", titanic[titanic.age.isnull() == False].age.max()\n",
    "print \"Mean age : \", titanic[titanic.age.isnull() == False].age.mean()\n",
    "plt.hist(titanic[titanic.age.isnull() == False].age, bins = 10, range=[0,100])\n",
    "plt.show()"
   ]
  },
  {
   "cell_type": "markdown",
   "metadata": {},
   "source": [
    "### Lusitania\n",
    "\n",
    "The Lusitania data set has strings in the 'Age' column which must be cleaned to compute statistics. For initial statistics, I simply remove these values.  The remaining non-null values seem reasonable.  There is a stronger preference for ages in the range 20 - 40 years of age, probably because of the inclusion of crew in the data set."
   ]
  },
  {
   "cell_type": "code",
   "execution_count": 26,
   "metadata": {
    "collapsed": false
   },
   "outputs": [
    {
     "name": "stdout",
     "output_type": "stream",
     "text": [
      "Min age :  1.0\n",
      "Max age :  76.0\n",
      "Mean age :  33.2852226721\n"
     ]
    },
    {
     "data": {
      "image/png": "[encoded data removed]",
      "text/plain": [
       "<matplotlib.figure.Figure at 0x112b3f650>"
      ]
     },
     "metadata": {},
     "output_type": "display_data"
    }
   ],
   "source": [
    "def lusitania_clean_age(val):\n",
    "    try:\n",
    "        return float(val)\n",
    "    except:\n",
    "        return np.nan\n",
    "\n",
    "\n",
    "lusitania[\"Cleaned_Age\"] = lusitania.Age.apply(lusitania_clean_age)\n",
    "\n",
    "print \"Min age : \", lusitania[lusitania.Cleaned_Age.isnull() == False].Cleaned_Age.min()\n",
    "print \"Max age : \", lusitania[lusitania.Cleaned_Age.isnull() == False].Cleaned_Age.max()\n",
    "print \"Mean age : \", lusitania[lusitania.Cleaned_Age.isnull() == False].Cleaned_Age.mean()\n",
    "plt.hist(lusitania[lusitania.Cleaned_Age.isnull() == False].Cleaned_Age, bins = 10, range=[0,100])\n",
    "plt.show()\n",
    "\n",
    "\n"
   ]
  },
  {
   "cell_type": "markdown",
   "metadata": {},
   "source": [
    "#### Check for missing values.  How do you know that a value is missing?"
   ]
  },
  {
   "cell_type": "markdown",
   "metadata": {},
   "source": [
    "A value is missing when a 'NaN' is present.  The 'isnull()' method of the series object associated with a column can be used to produce a list of boolean values which are True if the values is NaN and False otherwise."
   ]
  },
  {
   "cell_type": "code",
   "execution_count": 27,
   "metadata": {
    "collapsed": false
   },
   "outputs": [
    {
     "name": "stdout",
     "output_type": "stream",
     "text": [
      "There are 263 null values in the age column out of 1309 total values.\n",
      "This represents 20.09% of the total values.\n"
     ]
    }
   ],
   "source": [
    "# Titanic\n",
    "print \"There are {} null values in the age column out of {} total values.\".format( \\\n",
    "                titanic[titanic.age.isnull()].age.size, titanic.age.size)\n",
    "print \"This represents {0:.2f}% of the total values.\".format( \\\n",
    "                100. * titanic[titanic.age.isnull()].age.size / titanic.age.size)"
   ]
  },
  {
   "cell_type": "code",
   "execution_count": 28,
   "metadata": {
    "collapsed": false
   },
   "outputs": [
    {
     "name": "stdout",
     "output_type": "stream",
     "text": [
      "There are 653 null values in the age column out of 1961 total values.\n",
      "This represents 33.30% of the total values.\n",
      "There are also 73 entries but require a non-trivial converstion to numeric values.\n"
     ]
    }
   ],
   "source": [
    "# Lusitania\n",
    "print \"There are {} null values in the age column out of {} total values.\".format( \\\n",
    "                lusitania[lusitania.Age.isnull()].Age.size, lusitania.Age.size)\n",
    "print \"This represents {0:.2f}% of the total values.\".format( \\\n",
    "                100. * lusitania[lusitania.Age.isnull()].Age.size / lusitania.Age.size)\n",
    "print \"There are also {} entries but require a non-trivial converstion to numeric values.\".format( \\\n",
    "                lusitania[~(lusitania.Age.isnull())].Age.size\n",
    "                - lusitania[~(lusitania.Cleaned_Age.isnull())].Cleaned_Age.size)"
   ]
  },
  {
   "cell_type": "markdown",
   "metadata": {},
   "source": [
    "#### Does it makes sense to guess at the value?"
   ]
  },
  {
   "cell_type": "markdown",
   "metadata": {
    "collapsed": true
   },
   "source": [
    "It makes sense to guess at the age values if there are other data which may be able to predict it.\n",
    "\n",
    "### Titanic:\n",
    "\n",
    "In the case of the Titanic only around 20% of the age data is missing and there are multiple other columns which may be correlated with age, so imputing data is reasonable.  This does create a redundancy between the age column and any other column which is used for imputation.\n",
    "\n",
    "### Lusitania:\n",
    "\n",
    "For the Lusitania 33.3% of the age data is missing, which makes an imputation for the Lusitania still possible.  However, the resulting imputation will probably be less reliable than for the Titanic data set."
   ]
  },
  {
   "cell_type": "markdown",
   "metadata": {},
   "source": [
    "## Part 3: data imputation"
   ]
  },
  {
   "cell_type": "markdown",
   "metadata": {},
   "source": [
    "#### Well let’s say that it does... You likely noticed that Age has some missing values. How many are missing?"
   ]
  },
  {
   "cell_type": "markdown",
   "metadata": {},
   "source": [
    "### Titanic:\n",
    "\n",
    "There are 263 null values in the age column out of 1309 total values.  This represents 20.09% of the total values.\n",
    "\n",
    "### Lusitania:\n",
    "\n",
    "There are 653 null values in the age column out of 1961 total values.  This represents 33.30% of the total values.\n",
    "There are also 73 entries but require a non-trivial converstion to numeric values."
   ]
  },
  {
   "cell_type": "markdown",
   "metadata": {},
   "source": [
    "#### For the Age of the passangers ... how would you guess at the missing values using the other data present in the CSV."
   ]
  },
  {
   "cell_type": "markdown",
   "metadata": {},
   "source": [
    "### Titanic:\n",
    "\n",
    "As a first pass, the imputed age could be set to the average age of all passengers.  While not precisely a normal distribution, it is roughly symmetric except for the high age tail.  Beyond this, it might be possible to better imputate by splitting by various variables, such as passenger class, which might imply a different age distribution, or number of siblings, which might allow selection of children.  Beyond this, it might be possible to select family groups -- for instance, matching spousal last names (particularly when the wife is listed partially using her husband's first name as part of her listing), or using a presumably lower age distribution for unmarried but possibly adult passengers (particularly female passengers listed under 'Miss').\n",
    "\n",
    "Here I consider imputation through grouping by passenger class, number of siblings and spouses, and number of parents and children.  Each passenger class is used, and the other two are split into the classes [0, 1, 2, >2].  For each of these sub-groups, the empty ages are assigned the the mean of the non-null ages for that sub-group."
   ]
  },
  {
   "cell_type": "code",
   "execution_count": 29,
   "metadata": {
    "collapsed": false
   },
   "outputs": [
    {
     "data": {
      "text/plain": [
       "count    1046.000000\n",
       "mean       29.881138\n",
       "std        14.413493\n",
       "min         0.170000\n",
       "25%        21.000000\n",
       "50%        28.000000\n",
       "75%        39.000000\n",
       "max        80.000000\n",
       "Name: age, dtype: float64"
      ]
     },
     "execution_count": 29,
     "metadata": {},
     "output_type": "execute_result"
    }
   ],
   "source": [
    "titanic.age.describe()"
   ]
  },
  {
   "cell_type": "code",
   "execution_count": 30,
   "metadata": {
    "collapsed": false
   },
   "outputs": [
    {
     "name": "stdout",
     "output_type": "stream",
     "text": [
      "There are 0 missing values remaining for age.\n"
     ]
    },
    {
     "data": {
      "text/plain": [
       "count    1309.000000\n",
       "mean       29.578106\n",
       "std        13.251883\n",
       "min         0.170000\n",
       "25%        22.000000\n",
       "50%        27.607813\n",
       "75%        37.000000\n",
       "max        80.000000\n",
       "Name: age, dtype: float64"
      ]
     },
     "execution_count": 30,
     "metadata": {},
     "output_type": "execute_result"
    }
   ],
   "source": [
    "for i in range(1,4,1):\n",
    "    for j in range(0,3,1):\n",
    "        for k in range(0,3,1):\n",
    "            subset = (titanic.pclass == i) & (titanic.sibsp == j) & (titanic.parch == k)\n",
    "            titanic.age.loc[(titanic.age.isnull()) & (subset)] = titanic[subset].age.mean()\n",
    "            \n",
    "        \n",
    "        subset = (titanic.pclass == i) & (titanic.sibsp == j) & (titanic.parch > 2)\n",
    "        titanic.age.loc[(titanic.age.isnull()) & (subset)] = titanic[subset].age.mean()\n",
    "        \n",
    "        subset = (titanic.pclass == i) & (titanic.sibsp > 2) & (titanic.parch == j)\n",
    "        titanic.age.loc[(titanic.age.isnull()) & (subset)] = titanic[subset].age.mean()\n",
    "    \n",
    "    subset = (titanic.pclass == i) & (titanic.sibsp > 2) & (titanic.parch > 2)\n",
    "    titanic.age.loc[(titanic.age.isnull()) & (subset)] = titanic[subset].age.mean()\n",
    "\n",
    "print(\"There are {} missing values remaining for age.\".format(titanic[titanic.age.isnull()].size))\n",
    "titanic.age.describe()"
   ]
  },
  {
   "cell_type": "code",
   "execution_count": 31,
   "metadata": {
    "collapsed": true
   },
   "outputs": [],
   "source": [
    "# Add a dummy variable for summing total number of passengers\n",
    "titanic[\"dummy\"] = 1"
   ]
  },
  {
   "cell_type": "markdown",
   "metadata": {},
   "source": [
    "### Lusitania:\n",
    "\n",
    "For the Lusitania, first the ages listed as strings should be converted.  The predominant strings either have the form of \"##-months\" for infants or \"## ?\" for presumably uncertain ages.  There are also several entries that read simply \"Infant\".  Our approach for cleaning will be to replace try a replacement of any entry with the \"-months\" string with fractional values from the first two characters, then replace any remaining values with a \"?\" string with an age using the first two characters.  The remaining entries are set to 1 for the string \"Infant\" and NaN for all other values.  5 entries are set to NaN in this manner; while this represents a loss of data, it is less then one percent of the overall data set and further cleaning would be better performed by editing the original input file."
   ]
  },
  {
   "cell_type": "code",
   "execution_count": 32,
   "metadata": {
    "collapsed": false
   },
   "outputs": [
    {
     "name": "stdout",
     "output_type": "stream",
     "text": [
      "5 entries replaced by NaN.\n"
     ]
    }
   ],
   "source": [
    "\n",
    "\n",
    "def lusitania_cleaner_age(val):\n",
    "    try:\n",
    "        return float(val)\n",
    "    except Exception:\n",
    "        pass\n",
    "\n",
    "    if re.search(\"-months\", val):\n",
    "        try:\n",
    "            return float(val[0:2]) / 12\n",
    "        except Exception:\n",
    "            return np.nan\n",
    "\n",
    "    elif re.search(\"\\?\",val):\n",
    "        try:\n",
    "            return float(val[0:2])\n",
    "        except Exception:\n",
    "            return np.nan\n",
    "    elif val == \"Infant\":\n",
    "        return 1\n",
    "    else:\n",
    "        return np.nan\n",
    "\n",
    "lusitania[\"Cleaned_Age\"] = lusitania.Age.apply(lusitania_cleaner_age)\n",
    "print \"{} entries replaced by NaN.\".format( \\\n",
    "                lusitania[~(lusitania.Age.isnull())].Age.size\n",
    "                - lusitania[~(lusitania.Cleaned_Age.isnull())].Cleaned_Age.size)"
   ]
  },
  {
   "cell_type": "markdown",
   "metadata": {},
   "source": [
    "Beyond this, we can use several classification variables to impute age.  The data set provides information on whether each passenger is an Adult, Minor, or Infant in the \"Adult/Minor\" column, as well as whether they are Passenger or Crew in the \"Passenger/Crew\" entry and passenger class or crew department in the \"Department/Class\" column.  \n",
    "\n",
    "Three presumed German spies are listed as stowaways in the table.  All three died, and no age data is provided for any of them.  Since this grouping is categorically different from all other individuals on the Lusitania, it will be removed for further analysis.  The same is true of the four steward's boys,   The single entry with the \"Fate\" listing of \"Not on board\" is also removed.  The entries for \"Passenger/Crew\" of \"Third (Distressed British Seaman)\" are replaced with \"Third\".  The entrie with \"Adult/Minor\" of \"Minor?\" are set to \"Minor\".\n",
    "\n",
    "For each of the remaining entries, I break up the data set into categories based on the value in the [\"Sex\",\"Adult/Minor\", \"Passenger/Crew\",\"Department/Class\"], and fill values with the mean of the non-null entries for that group."
   ]
  },
  {
   "cell_type": "code",
   "execution_count": 33,
   "metadata": {
    "collapsed": false
   },
   "outputs": [],
   "source": [
    "lusitania = lusitania[(lusitania.Fate != \"Not on board\")]\n",
    "lusitania = lusitania[(lusitania[\"Department/Class\"] != \"Stowaway\")]\n",
    "lusitania[\"Department/Class\"].loc[(lusitania[\"Department/Class\"] == \"Third (Distressed British Seaman)\")] = \"Third\"\n",
    "lusitania[\"Adult/Minor\"].loc[(lusitania[\"Adult/Minor\"] == \"Minor?\")] = \"Minor\"\n",
    "\n",
    "for sex in set(lusitania[\"Sex\"]):\n",
    "    for am in set(lusitania[\"Adult/Minor\"]):\n",
    "        for dc in set(lusitania[\"Department/Class\"]):\n",
    "            for pc in set(lusitania[\"Passenger/Crew\"]):\n",
    "                subset = (sex == lusitania[\"Sex\"]) & (am == lusitania[\"Adult/Minor\"]) & \\\n",
    "                         (dc == lusitania[\"Department/Class\"]) & (pc == lusitania[\"Passenger/Crew\"])\n",
    "                lusitania.Cleaned_Age.loc[(subset) & (lusitania.Cleaned_Age.isnull())] = \\\n",
    "                        lusitania.Cleaned_Age[(subset)].mean()"
   ]
  },
  {
   "cell_type": "markdown",
   "metadata": {},
   "source": [
    "Finally, the survival variable is most useful as a class variable.  I map any entry of \"Saved\" in the \"Fate\" column to a \"1\" in a new \"Survived\" column, and any other entry to \"0\".  I also add a dummy \"1\" to every row."
   ]
  },
  {
   "cell_type": "code",
   "execution_count": 34,
   "metadata": {
    "collapsed": false
   },
   "outputs": [],
   "source": [
    "lusitania[\"Survived\"] = 0\n",
    "lusitania.Survived.loc[(lusitania.Fate == \"Saved\")] = 1\n",
    "lusitania[\"Dummy\"] = 1"
   ]
  },
  {
   "cell_type": "markdown",
   "metadata": {},
   "source": [
    "## Part 4: Group Statistics"
   ]
  },
  {
   "cell_type": "markdown",
   "metadata": {
    "collapsed": true
   },
   "source": [
    "#### Are there any groups that were especially adversely affected in the Titanic wreck? (justify your response numerically)"
   ]
  },
  {
   "cell_type": "markdown",
   "metadata": {},
   "source": [
    "Below I examine survival rates with grouping by age, gender, and passenger class.  For this purpose age is masked into a classification variable for adults vs. children, then make a smaller data frame with only these values.  Children are defined as anyone under 18 years of age, and adults as anyone 18 or older."
   ]
  },
  {
   "cell_type": "code",
   "execution_count": 43,
   "metadata": {
    "collapsed": false
   },
   "outputs": [
    {
     "data": {
      "text/html": [
       "<div>\n",
       "<table border=\"1\" class=\"dataframe\">\n",
       "  <thead>\n",
       "    <tr>\n",
       "      <th></th>\n",
       "      <th colspan=\"4\" halign=\"left\">survived</th>\n",
       "    </tr>\n",
       "    <tr>\n",
       "      <th>sex</th>\n",
       "      <th colspan=\"2\" halign=\"left\">female</th>\n",
       "      <th colspan=\"2\" halign=\"left\">male</th>\n",
       "    </tr>\n",
       "    <tr>\n",
       "      <th>adult_child</th>\n",
       "      <th>Adult</th>\n",
       "      <th>Child</th>\n",
       "      <th>Adult</th>\n",
       "      <th>Child</th>\n",
       "    </tr>\n",
       "    <tr>\n",
       "      <th>pclass</th>\n",
       "      <th></th>\n",
       "      <th></th>\n",
       "      <th></th>\n",
       "      <th></th>\n",
       "    </tr>\n",
       "  </thead>\n",
       "  <tbody>\n",
       "    <tr>\n",
       "      <th>1</th>\n",
       "      <td>0.970588</td>\n",
       "      <td>0.875000</td>\n",
       "      <td>0.319767</td>\n",
       "      <td>0.857143</td>\n",
       "    </tr>\n",
       "    <tr>\n",
       "      <th>2</th>\n",
       "      <td>0.863636</td>\n",
       "      <td>1.000000</td>\n",
       "      <td>0.089744</td>\n",
       "      <td>0.733333</td>\n",
       "    </tr>\n",
       "    <tr>\n",
       "      <th>3</th>\n",
       "      <td>0.500000</td>\n",
       "      <td>0.464286</td>\n",
       "      <td>0.137441</td>\n",
       "      <td>0.239437</td>\n",
       "    </tr>\n",
       "  </tbody>\n",
       "</table>\n",
       "</div>"
      ],
      "text/plain": [
       "             survived                              \n",
       "sex            female                male          \n",
       "adult_child     Adult     Child     Adult     Child\n",
       "pclass                                             \n",
       "1            0.970588  0.875000  0.319767  0.857143\n",
       "2            0.863636  1.000000  0.089744  0.733333\n",
       "3            0.500000  0.464286  0.137441  0.239437"
      ]
     },
     "execution_count": 43,
     "metadata": {},
     "output_type": "execute_result"
    }
   ],
   "source": [
    "titanic[\"adult_child\"] = \"Adult\"\n",
    "titanic.adult_child.loc[titanic.age < 18] = \"Child\"\n",
    "\n",
    "titanic_melted = pd.melt(titanic,[\"pclass\",\"sex\",\"adult_child\"],'survived', value_name = \"survived\")\n",
    "titanic_survival = pd.pivot_table(titanic_melted, index = ['pclass'], columns=['sex','adult_child'], aggfunc=np.mean)\n",
    "titanic_survival"
   ]
  },
  {
   "cell_type": "code",
   "execution_count": 44,
   "metadata": {
    "collapsed": false
   },
   "outputs": [
    {
     "data": {
      "text/plain": [
       "(0, 1.2)"
      ]
     },
     "execution_count": 44,
     "metadata": {},
     "output_type": "execute_result"
    },
    {
     "data": {
      "image/png": "[encoded data removed]",
      "text/plain": [
       "<matplotlib.figure.Figure at 0x11256c550>"
      ]
     },
     "metadata": {},
     "output_type": "display_data"
    }
   ],
   "source": [
    "axes = titanic_survival.plot.bar()\n",
    "axes.set_ylim([0,1.2])"
   ]
  },
  {
   "cell_type": "code",
   "execution_count": 57,
   "metadata": {
    "collapsed": false,
    "scrolled": true
   },
   "outputs": [
    {
     "name": "stdout",
     "output_type": "stream",
     "text": [
      "The overall survival rate for the Titanic is 38.20%\n",
      "Chi^2 of all groups:\n",
      "Power_divergenceResult(statistic=322.17130003765647, pvalue=1.8472104685824147e-62)\n",
      "Chi^2 of adult males vs. other groups:\n",
      "Power_divergenceResult(statistic=207.89259415146097, pvalue=3.959613807811699e-47)\n",
      "Chi^2 of survival over passenger class:\n",
      "Power_divergenceResult(statistic=79.020670404428074, pvalue=6.9323334360088694e-18)\n"
     ]
    }
   ],
   "source": [
    "titanic_survival_melted = pd.melt(titanic,['pclass','sex','adult_child'],'survived',value_name=\"survived\")\n",
    "titanic_totals_survival = list(pd.pivot_table(titanic_survival_melted, index = ['pclass','sex','adult_child'],\n",
    "                                              aggfunc=np.sum)[\"survived\"])\n",
    "\n",
    "titanic_melted_dummy = pd.melt(titanic,[\"pclass\",\"sex\",\"adult_child\"],'dummy', value_name = \"dummy\")\n",
    "titanic_totals_aboard = list(pd.pivot_table(titanic_melted_dummy, index = ['pclass','sex','adult_child'],\n",
    "                                     aggfunc=np.sum)['dummy'])\n",
    "\n",
    "titanic_survival_rate = titanic.survived.mean()\n",
    "print(\"The overall survival rate for the Titanic is {0:.2f}%\".format(100. * titanic_survival_rate))\n",
    "\n",
    "titanic_predicted_survival = [val * titanic_survival_rate for val in titanic_totals_aboard]\n",
    "\n",
    "print \"Chi^2 of all groups:\"\n",
    "print stats.chisquare(titanic_totals_survival,titanic_predicted_survival)\n",
    "\n",
    "titanic[\"adult_male\"] = 0\n",
    "titanic.adult_male.loc[(titanic.age >= 18) & (titanic.sex == \"male\")] = 1\n",
    "\n",
    "titanic_males_survival = list(pd.pivot_table(pd.melt(titanic,'adult_male','survived',value_name='survived'),\n",
    "                                             index='adult_male',aggfunc=np.sum)[\"survived\"])\n",
    "titanic_males_total = list(pd.pivot_table(pd.melt(titanic,'adult_male','dummy',value_name='dummy'),\n",
    "                                             index='adult_male',aggfunc=np.sum)[\"dummy\"])\n",
    "titanic_males_predicted_survival = [val * titanic_survival_rate for val in titanic_males_total]\n",
    "\n",
    "print \"Chi^2 of adult males vs. other groups:\"\n",
    "print stats.chisquare(titanic_males_survival,titanic_males_predicted_survival)\n",
    "\n",
    "titanic_pclass_survival = list(pd.pivot_table(pd.melt(titanic,'pclass','survived',value_name='survived'),\n",
    "                                             index='pclass',aggfunc=np.sum)[\"survived\"])\n",
    "titanic_pclass_total = list(pd.pivot_table(pd.melt(titanic,'pclass','dummy',value_name='dummy'),\n",
    "                                             index='pclass',aggfunc=np.sum)[\"dummy\"])\n",
    "titanic_pclass_predicted_survival = [val * titanic_survival_rate for val in titanic_pclass_total]\n",
    "\n",
    "\n",
    "print \"Chi^2 of survival over passenger class:\"\n",
    "print stats.chisquare(titanic_pclass_survival,titanic_pclass_predicted_survival)"
   ]
  },
  {
   "cell_type": "markdown",
   "metadata": {},
   "source": [
    "The two general trends that From the plot are that adult males in all classes had lower survival rates than females or male children, and that overall survival rates dropped for third class passengers.  For the null hypothesis that all groups have equal survival the overall chi^2 over all sub-groups has a p-vaue of 1.847e-62, implying that the null hypothesis can be rejected, so some groups do have significantly different that normal survival rates.\n",
    "\n",
    "Since the significance for general differences between groups is so strong, it is reasonable to consider specific sub-groups.  The difference in survival rates between adult males and all other groups has a p-value of 3.96e-47, so it is reasonable to conclude that adult males really do have a lower survival rate.  The same holds true for differences between passengers in different classes, for which the p-value is 6.93e-18, so it is reasonable to conclude that those in lower classes have different survival rates."
   ]
  },
  {
   "cell_type": "markdown",
   "metadata": {},
   "source": [
    "#### Are there any groups that outperformed the survival of the latter group? (justify your response numerically)\n"
   ]
  },
  {
   "cell_type": "markdown",
   "metadata": {},
   "source": [
    "Adult females and children have significantly larger survival rates than adult males, and people in higher passenger classes have higher survival rates than those in lower passenger classes."
   ]
  },
  {
   "cell_type": "markdown",
   "metadata": {
    "collapsed": true
   },
   "source": [
    "## Part 5:  Comparative Statistics:  Lusitania"
   ]
  },
  {
   "cell_type": "markdown",
   "metadata": {
    "collapsed": true
   },
   "source": [
    "#### Are there any groups that were especially adversely affected in the Lusitania wreck? (justify your response numerically)"
   ]
  },
  {
   "cell_type": "markdown",
   "metadata": {},
   "source": [
    "Below I examine survival rates with grouping by passenger vs. crew, department/class, gender, and age range.  Note that here the age range is taken from the \"Adult/Minor\" category in the original table, not inferred from the age."
   ]
  },
  {
   "cell_type": "code",
   "execution_count": 38,
   "metadata": {
    "collapsed": false
   },
   "outputs": [
    {
     "data": {
      "text/html": [
       "<div>\n",
       "<table border=\"1\" class=\"dataframe\">\n",
       "  <thead>\n",
       "    <tr>\n",
       "      <th></th>\n",
       "      <th colspan=\"7\" halign=\"left\">survived</th>\n",
       "    </tr>\n",
       "    <tr>\n",
       "      <th>Passenger/Crew</th>\n",
       "      <th colspan=\"3\" halign=\"left\">Crew</th>\n",
       "      <th colspan=\"4\" halign=\"left\">Passenger</th>\n",
       "    </tr>\n",
       "    <tr>\n",
       "      <th>Sex</th>\n",
       "      <th>Female</th>\n",
       "      <th colspan=\"2\" halign=\"left\">Male</th>\n",
       "      <th colspan=\"2\" halign=\"left\">Female</th>\n",
       "      <th colspan=\"2\" halign=\"left\">Male</th>\n",
       "    </tr>\n",
       "    <tr>\n",
       "      <th>Adult/Minor</th>\n",
       "      <th>Adult</th>\n",
       "      <th>Adult</th>\n",
       "      <th>Minor</th>\n",
       "      <th>Adult</th>\n",
       "      <th>Minor</th>\n",
       "      <th>Adult</th>\n",
       "      <th>Minor</th>\n",
       "    </tr>\n",
       "    <tr>\n",
       "      <th>Department/Class</th>\n",
       "      <th></th>\n",
       "      <th></th>\n",
       "      <th></th>\n",
       "      <th></th>\n",
       "      <th></th>\n",
       "      <th></th>\n",
       "      <th></th>\n",
       "    </tr>\n",
       "  </thead>\n",
       "  <tbody>\n",
       "    <tr>\n",
       "      <th>Band</th>\n",
       "      <td>NaN</td>\n",
       "      <td>0.600000</td>\n",
       "      <td>NaN</td>\n",
       "      <td>NaN</td>\n",
       "      <td>NaN</td>\n",
       "      <td>NaN</td>\n",
       "      <td>NaN</td>\n",
       "    </tr>\n",
       "    <tr>\n",
       "      <th>Deck</th>\n",
       "      <td>NaN</td>\n",
       "      <td>0.544118</td>\n",
       "      <td>0.0</td>\n",
       "      <td>NaN</td>\n",
       "      <td>NaN</td>\n",
       "      <td>NaN</td>\n",
       "      <td>NaN</td>\n",
       "    </tr>\n",
       "    <tr>\n",
       "      <th>Engineering</th>\n",
       "      <td>NaN</td>\n",
       "      <td>0.360129</td>\n",
       "      <td>0.0</td>\n",
       "      <td>NaN</td>\n",
       "      <td>NaN</td>\n",
       "      <td>NaN</td>\n",
       "      <td>NaN</td>\n",
       "    </tr>\n",
       "    <tr>\n",
       "      <th>Saloon</th>\n",
       "      <td>NaN</td>\n",
       "      <td>NaN</td>\n",
       "      <td>NaN</td>\n",
       "      <td>0.390244</td>\n",
       "      <td>0.250000</td>\n",
       "      <td>0.404255</td>\n",
       "      <td>0.166667</td>\n",
       "    </tr>\n",
       "    <tr>\n",
       "      <th>Second</th>\n",
       "      <td>NaN</td>\n",
       "      <td>NaN</td>\n",
       "      <td>NaN</td>\n",
       "      <td>0.370968</td>\n",
       "      <td>0.347826</td>\n",
       "      <td>0.389961</td>\n",
       "      <td>0.375000</td>\n",
       "    </tr>\n",
       "    <tr>\n",
       "      <th>Third</th>\n",
       "      <td>NaN</td>\n",
       "      <td>NaN</td>\n",
       "      <td>NaN</td>\n",
       "      <td>0.375000</td>\n",
       "      <td>0.333333</td>\n",
       "      <td>0.355932</td>\n",
       "      <td>0.344828</td>\n",
       "    </tr>\n",
       "    <tr>\n",
       "      <th>Victualling</th>\n",
       "      <td>0.36</td>\n",
       "      <td>0.457249</td>\n",
       "      <td>0.5</td>\n",
       "      <td>NaN</td>\n",
       "      <td>NaN</td>\n",
       "      <td>NaN</td>\n",
       "      <td>NaN</td>\n",
       "    </tr>\n",
       "  </tbody>\n",
       "</table>\n",
       "</div>"
      ],
      "text/plain": [
       "                 survived                                                \\\n",
       "Passenger/Crew       Crew                 Passenger                       \n",
       "Sex                Female      Male          Female                Male   \n",
       "Adult/Minor         Adult     Adult Minor     Adult     Minor     Adult   \n",
       "Department/Class                                                          \n",
       "Band                  NaN  0.600000   NaN       NaN       NaN       NaN   \n",
       "Deck                  NaN  0.544118   0.0       NaN       NaN       NaN   \n",
       "Engineering           NaN  0.360129   0.0       NaN       NaN       NaN   \n",
       "Saloon                NaN       NaN   NaN  0.390244  0.250000  0.404255   \n",
       "Second                NaN       NaN   NaN  0.370968  0.347826  0.389961   \n",
       "Third                 NaN       NaN   NaN  0.375000  0.333333  0.355932   \n",
       "Victualling          0.36  0.457249   0.5       NaN       NaN       NaN   \n",
       "\n",
       "                            \n",
       "Passenger/Crew              \n",
       "Sex                         \n",
       "Adult/Minor          Minor  \n",
       "Department/Class            \n",
       "Band                   NaN  \n",
       "Deck                   NaN  \n",
       "Engineering            NaN  \n",
       "Saloon            0.166667  \n",
       "Second            0.375000  \n",
       "Third             0.344828  \n",
       "Victualling            NaN  "
      ]
     },
     "execution_count": 38,
     "metadata": {},
     "output_type": "execute_result"
    }
   ],
   "source": [
    "lusitania[\"Adult/Minor\"].loc[lusitania[\"Adult/Minor\"] == \"Infant\"] = \"Minor\"\n",
    "\n",
    "lusitania_melted = pd.melt(lusitania,[\"Passenger/Crew\", \"Department/Class\",\"Sex\",\"Adult/Minor\"],\n",
    "                           'Survived', value_name = \"survived\")\n",
    "lusitania_survival = pd.pivot_table(lusitania_melted, index = ['Department/Class'],\n",
    "                                    columns=[\"Passenger/Crew\",\"Sex\",\"Adult/Minor\"],aggfunc=np.mean)\n",
    "\n",
    "lusitania_survival"
   ]
  },
  {
   "cell_type": "markdown",
   "metadata": {},
   "source": [
    "The table is sub-divided between the mutually exclusive categories of passengers and crew, so considering the sub-categories for visualization is useful.  I still use the entire data set for summary statistics."
   ]
  },
  {
   "cell_type": "code",
   "execution_count": 39,
   "metadata": {
    "collapsed": false
   },
   "outputs": [
    {
     "data": {
      "text/html": [
       "<div>\n",
       "<table border=\"1\" class=\"dataframe\">\n",
       "  <thead>\n",
       "    <tr>\n",
       "      <th></th>\n",
       "      <th colspan=\"3\" halign=\"left\">survived</th>\n",
       "    </tr>\n",
       "    <tr>\n",
       "      <th>Passenger/Crew</th>\n",
       "      <th colspan=\"3\" halign=\"left\">Crew</th>\n",
       "    </tr>\n",
       "    <tr>\n",
       "      <th>Sex</th>\n",
       "      <th>Female</th>\n",
       "      <th colspan=\"2\" halign=\"left\">Male</th>\n",
       "    </tr>\n",
       "    <tr>\n",
       "      <th>Adult/Minor</th>\n",
       "      <th>Adult</th>\n",
       "      <th>Adult</th>\n",
       "      <th>Minor</th>\n",
       "    </tr>\n",
       "    <tr>\n",
       "      <th>Department/Class</th>\n",
       "      <th></th>\n",
       "      <th></th>\n",
       "      <th></th>\n",
       "    </tr>\n",
       "  </thead>\n",
       "  <tbody>\n",
       "    <tr>\n",
       "      <th>Band</th>\n",
       "      <td>NaN</td>\n",
       "      <td>0.600000</td>\n",
       "      <td>NaN</td>\n",
       "    </tr>\n",
       "    <tr>\n",
       "      <th>Deck</th>\n",
       "      <td>NaN</td>\n",
       "      <td>0.544118</td>\n",
       "      <td>0.0</td>\n",
       "    </tr>\n",
       "    <tr>\n",
       "      <th>Engineering</th>\n",
       "      <td>NaN</td>\n",
       "      <td>0.360129</td>\n",
       "      <td>0.0</td>\n",
       "    </tr>\n",
       "    <tr>\n",
       "      <th>Victualling</th>\n",
       "      <td>0.36</td>\n",
       "      <td>0.457249</td>\n",
       "      <td>0.5</td>\n",
       "    </tr>\n",
       "  </tbody>\n",
       "</table>\n",
       "</div>"
      ],
      "text/plain": [
       "                 survived                \n",
       "Passenger/Crew       Crew                \n",
       "Sex                Female      Male      \n",
       "Adult/Minor         Adult     Adult Minor\n",
       "Department/Class                         \n",
       "Band                  NaN  0.600000   NaN\n",
       "Deck                  NaN  0.544118   0.0\n",
       "Engineering           NaN  0.360129   0.0\n",
       "Victualling          0.36  0.457249   0.5"
      ]
     },
     "execution_count": 39,
     "metadata": {},
     "output_type": "execute_result"
    },
    {
     "data": {
      "image/png": "[encoded data removed]",
      "text/plain": [
       "<matplotlib.figure.Figure at 0x112e20d90>"
      ]
     },
     "metadata": {},
     "output_type": "display_data"
    }
   ],
   "source": [
    "lusitania_crew = lusitania[lusitania[\"Passenger/Crew\"] == \"Crew\"]\n",
    "lusitania_crew_melted = pd.melt(lusitania_crew,[\"Passenger/Crew\",\"Department/Class\",\"Sex\",\"Adult/Minor\"],\n",
    "                                                'Survived', value_name = \"survived\")\n",
    "lusitania_crew_survival = pd.pivot_table(lusitania_crew_melted, index = ['Department/Class'],\n",
    "                                         columns=[\"Passenger/Crew\",\"Sex\",\"Adult/Minor\"],aggfunc=np.mean)\n",
    "\n",
    "axes = lusitania_crew_survival.plot.bar()\n",
    "axes.set_ylim([0,1])\n",
    "lusitania_crew_survival"
   ]
  },
  {
   "cell_type": "code",
   "execution_count": 40,
   "metadata": {
    "collapsed": false
   },
   "outputs": [
    {
     "data": {
      "text/html": [
       "<div>\n",
       "<table border=\"1\" class=\"dataframe\">\n",
       "  <thead>\n",
       "    <tr>\n",
       "      <th></th>\n",
       "      <th colspan=\"4\" halign=\"left\">survived</th>\n",
       "    </tr>\n",
       "    <tr>\n",
       "      <th>Passenger/Crew</th>\n",
       "      <th colspan=\"4\" halign=\"left\">Passenger</th>\n",
       "    </tr>\n",
       "    <tr>\n",
       "      <th>Sex</th>\n",
       "      <th colspan=\"2\" halign=\"left\">Female</th>\n",
       "      <th colspan=\"2\" halign=\"left\">Male</th>\n",
       "    </tr>\n",
       "    <tr>\n",
       "      <th>Adult/Minor</th>\n",
       "      <th>Adult</th>\n",
       "      <th>Minor</th>\n",
       "      <th>Adult</th>\n",
       "      <th>Minor</th>\n",
       "    </tr>\n",
       "    <tr>\n",
       "      <th>Department/Class</th>\n",
       "      <th></th>\n",
       "      <th></th>\n",
       "      <th></th>\n",
       "      <th></th>\n",
       "    </tr>\n",
       "  </thead>\n",
       "  <tbody>\n",
       "    <tr>\n",
       "      <th>Saloon</th>\n",
       "      <td>0.390244</td>\n",
       "      <td>0.250000</td>\n",
       "      <td>0.404255</td>\n",
       "      <td>0.166667</td>\n",
       "    </tr>\n",
       "    <tr>\n",
       "      <th>Second</th>\n",
       "      <td>0.370968</td>\n",
       "      <td>0.347826</td>\n",
       "      <td>0.389961</td>\n",
       "      <td>0.375000</td>\n",
       "    </tr>\n",
       "    <tr>\n",
       "      <th>Third</th>\n",
       "      <td>0.375000</td>\n",
       "      <td>0.333333</td>\n",
       "      <td>0.355932</td>\n",
       "      <td>0.344828</td>\n",
       "    </tr>\n",
       "  </tbody>\n",
       "</table>\n",
       "</div>"
      ],
      "text/plain": [
       "                  survived                              \n",
       "Passenger/Crew   Passenger                              \n",
       "Sex                 Female                Male          \n",
       "Adult/Minor          Adult     Minor     Adult     Minor\n",
       "Department/Class                                        \n",
       "Saloon            0.390244  0.250000  0.404255  0.166667\n",
       "Second            0.370968  0.347826  0.389961  0.375000\n",
       "Third             0.375000  0.333333  0.355932  0.344828"
      ]
     },
     "execution_count": 40,
     "metadata": {},
     "output_type": "execute_result"
    },
    {
     "data": {
      "image/png": "[encoded data removed]",
      "text/plain": [
       "<matplotlib.figure.Figure at 0x1042bb490>"
      ]
     },
     "metadata": {},
     "output_type": "display_data"
    }
   ],
   "source": [
    "lusitania_passengers = lusitania[lusitania[\"Passenger/Crew\"] == \"Passenger\"]\n",
    "lusitania_passengers_melted = pd.melt(lusitania_passengers,[\"Passenger/Crew\", \"Department/Class\",\"Sex\",\"Adult/Minor\"],\n",
    "                                                            'Survived', value_name = \"survived\")\n",
    "lusitania_passengers_survival = pd.pivot_table(lusitania_passengers_melted, index = ['Department/Class'],\n",
    "                                               columns=[\"Passenger/Crew\",\"Sex\",\"Adult/Minor\"],aggfunc=np.mean)\n",
    "\n",
    "axes = lusitania_passengers_survival.plot.bar()\n",
    "axes.set_ylim([0,1])\n",
    "lusitania_passengers_survival"
   ]
  },
  {
   "cell_type": "code",
   "execution_count": 59,
   "metadata": {
    "collapsed": false
   },
   "outputs": [
    {
     "name": "stdout",
     "output_type": "stream",
     "text": [
      "The overall survival rate for the Lusitania is 38.99%\n",
      "Chi^2 of survival over all classes:\n",
      "Power_divergenceResult(statistic=13.652507847888861, pvalue=0.80355840256466793)\n"
     ]
    }
   ],
   "source": [
    "lusitania_totals_survival = list(pd.pivot_table(lusitania_melted,\n",
    "                                           index = ['Department/Class',\"Passenger/Crew\",\"Sex\",\"Adult/Minor\"],\n",
    "                                           aggfunc=np.sum)['survived'])\n",
    "\n",
    "lusitania_totals_melted = pd.melt(lusitania,[\"Passenger/Crew\", \"Department/Class\",\"Sex\",\"Adult/Minor\"],\n",
    "                                  'Dummy', value_name = \"dummy\")\n",
    "lusitania_totals_aboard = list(pd.pivot_table(lusitania_totals_melted,\n",
    "                                           index = ['Department/Class',\"Passenger/Crew\",\"Sex\",\"Adult/Minor\"],\n",
    "                                           aggfunc=np.sum)['dummy'])\n",
    "\n",
    "lusitania_survival_rate = lusitania.Survived.mean()\n",
    "print(\"The overall survival rate for the Lusitania is {0:.2f}%\".format(100. * lusitania_survival_rate))\n",
    "\n",
    "lusitania_predicted_survival = [val * lusitania_survival_rate for val in lusitania_totals_aboard]\n",
    "\n",
    "print \"Chi^2 of survival over all classes:\"\n",
    "print stats.chisquare(lusitania_totals_survival,lusitania_predicted_survival)"
   ]
  },
  {
   "cell_type": "markdown",
   "metadata": {},
   "source": [
    "For the Lusitania, the null hypothesis is that all passengers and crew are equally likely to survive, and it has a p-value of 0.804, so it is unreasonable to reject the null hypothesis.  The statistical implication of this is that, while some groups (such as the Band and the Engineering Crew) had higher survival rates than others (in particular underage passengers in Saloon class), this represents random variation as opposed to a statistically meaningful underly difference in their survival rates.\n",
    "\n",
    "Note that we have removed the purported German spies listed as stowaways in the original data set, who all perished, but also appear to have been locked up at the time of the sinking, and so should not be considered as part of the sample.  Their sample size is sufficient small that it would not be expected to change the overall result in any case."
   ]
  },
  {
   "cell_type": "markdown",
   "metadata": {
    "collapsed": true
   },
   "source": [
    "#### Are there any groups that outperformed the survival of the latter group? (justify your response numerically)\n",
    "\n"
   ]
  },
  {
   "cell_type": "markdown",
   "metadata": {
    "collapsed": true
   },
   "source": [
    "As stated above, it does not appear that any group outperformed the general survival rate in a statistically significant way."
   ]
  },
  {
   "cell_type": "markdown",
   "metadata": {},
   "source": [
    "### What does the group-wise survival rate imply about circumstances during these two accidents?"
   ]
  },
  {
   "cell_type": "markdown",
   "metadata": {
    "collapsed": true
   },
   "source": [
    "The group-wise survival rate implies that survival aboard the Lusitania was largely random and spread out across all categories of passenger and crew, while there was a statistically significant selection effect among the passengers upon the titanic.\n",
    "\n",
    "Moving past pure statistics and considering the details of the two ships, these results match the circumstances of the disasters.  The Titanic sunk over 2 hours and 40 minutes (https://en.wikipedia.org/wiki/RMS_Titanic), and all its lifeboats were launched.  As such, there was a selection in terms of age, gender, and class applied to those who were able to survive.  Moreover, no other vessels reached the site for hours, so those who were stranded in the water froze to death.  The Lusitania, on the other hand, was torpedoed and sunk in 18 minutes (https://en.wikipedia.org/wiki/RMS_Lusitania), likely resulting in a more random selection of passengers and crew being trapped below-decks.  Only 6 of the 48 lifeboats were successfully launched, meaning that a large portion (possibly the majority) of survivors were rescued directly from the water rather than lifeboats, which also suggests a more random sampling."
   ]
  }
 ],
 "metadata": {
  "anaconda-cloud": {},
  "kernelspec": {
   "display_name": "Python [conda root]",
   "language": "python",
   "name": "conda-root-py"
  },
  "language_info": {
   "codemirror_mode": {
    "name": "ipython",
    "version": 2
   },
   "file_extension": ".py",
   "mimetype": "text/x-python",
   "name": "python",
   "nbconvert_exporter": "python",
   "pygments_lexer": "ipython2",
   "version": "2.7.12"
  }
 },
 "nbformat": 4,
 "nbformat_minor": 0
}
